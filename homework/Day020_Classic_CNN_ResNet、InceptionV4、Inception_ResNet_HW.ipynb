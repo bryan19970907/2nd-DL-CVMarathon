{
  "nbformat": 4,
  "nbformat_minor": 0,
  "metadata": {
    "colab": {
      "name": "Day020_Classic CNN-ResNet、InceptionV4、Inception-ResNet_HW.ipynb",
      "provenance": [],
      "collapsed_sections": []
    },
    "kernelspec": {
      "display_name": "Python 3",
      "language": "python",
      "name": "python3"
    },
    "language_info": {
      "codemirror_mode": {
        "name": "ipython",
        "version": 3
      },
      "file_extension": ".py",
      "mimetype": "text/x-python",
      "name": "python",
      "nbconvert_exporter": "python",
      "pygments_lexer": "ipython3",
      "version": "3.6.7"
    }
  },
  "cells": [
    {
      "cell_type": "markdown",
      "metadata": {
        "id": "ucwCi29ZAECk",
        "colab_type": "text"
      },
      "source": [
        "## 『本次練習內容』\n",
        "#### 學習如何搭建 Residual Block\n",
        "####  學習如何搭建Inception-ResNet中的 Inception Block"
      ]
    },
    {
      "cell_type": "markdown",
      "metadata": {
        "id": "XZu9DDdAAECn",
        "colab_type": "text"
      },
      "source": [
        "## 『本次練習目的』\n",
        "  #### 了解 Residual Block原理\n",
        "  #### 了解如何結合Inception 與 Residual概念"
      ]
    },
    {
      "cell_type": "markdown",
      "metadata": {
        "id": "_RgFkHUIAECp",
        "colab_type": "text"
      },
      "source": [
        "---"
      ]
    },
    {
      "cell_type": "markdown",
      "metadata": {
        "id": "IiZHYMyMAECq",
        "colab_type": "text"
      },
      "source": [
        "## Part1"
      ]
    },
    {
      "cell_type": "code",
      "metadata": {
        "id": "UR8YMr_AAECr",
        "colab_type": "code",
        "outputId": "acc7f536-10d4-4808-e133-8421986fd5fe",
        "colab": {
          "base_uri": "https://localhost:8080/",
          "height": 79
        }
      },
      "source": [
        "import numpy as np\n",
        "from keras.models import Model\n",
        "from keras.layers import Flatten\n",
        "from keras.layers import Dense\n",
        "from keras.layers import Input\n",
        "from keras.layers import Conv2D\n",
        "from keras.layers import MaxPooling2D\n",
        "from keras.layers import GlobalMaxPooling2D\n",
        "from keras.layers import GlobalAveragePooling2D\n",
        "from keras import backend as K\n",
        "from keras import layers\n",
        "from keras.layers import BatchNormalization\n",
        "from keras.layers import Activation\n",
        "from keras.layers import Concatenate\n",
        "from keras.layers import Lambda"
      ],
      "execution_count": 1,
      "outputs": [
        {
          "output_type": "stream",
          "text": [
            "Using TensorFlow backend.\n"
          ],
          "name": "stderr"
        },
        {
          "output_type": "display_data",
          "data": {
            "text/html": [
              "<p style=\"color: red;\">\n",
              "The default version of TensorFlow in Colab will soon switch to TensorFlow 2.x.<br>\n",
              "We recommend you <a href=\"https://www.tensorflow.org/guide/migrate\" target=\"_blank\">upgrade</a> now \n",
              "or ensure your notebook will continue to use TensorFlow 1.x via the <code>%tensorflow_version 1.x</code> magic:\n",
              "<a href=\"https://colab.research.google.com/notebooks/tensorflow_version.ipynb\" target=\"_blank\">more info</a>.</p>\n"
            ],
            "text/plain": [
              "<IPython.core.display.HTML object>"
            ]
          },
          "metadata": {
            "tags": []
          }
        }
      ]
    },
    {
      "cell_type": "markdown",
      "metadata": {
        "id": "nWIY8eU5AECw",
        "colab_type": "text"
      },
      "source": [
        "![Incpeiton](ResNet_Structure.png)"
      ]
    },
    {
      "cell_type": "markdown",
      "metadata": {
        "id": "G1DO-xwxAECy",
        "colab_type": "text"
      },
      "source": [
        "## ResNetV1"
      ]
    },
    {
      "cell_type": "code",
      "metadata": {
        "id": "7AzaNbaaAECz",
        "colab_type": "code",
        "colab": {}
      },
      "source": [
        "def Residual_block(input_tensor, kernel_size, filters, stage, block):\n",
        "    filters1, filters2, filters3 = filters\n",
        "    conv_name_base = 'res' + str(stage) + block + '_branch'\n",
        "    bn_name_base = 'bn' + str(stage) + block + '_branch'\n",
        "\n",
        "    x = Conv2D(filters1, (1, 1), name=conv_name_base + '2a')(input_tensor)\n",
        "    x = BatchNormalization(axis=3, name=bn_name_base + '2a')(x)\n",
        "    x = Activation('relu')(x)\n",
        "\n",
        "    x = Conv2D(filters2, kernel_size,\n",
        "               padding='same', name=conv_name_base + '2b')(x)\n",
        "    x = BatchNormalization(axis=3, name=bn_name_base + '2b')(x)\n",
        "    ###############################\n",
        "    x = Activation('relu')(x)\n",
        "\n",
        "    x = Conv2D(filters3, (1, 1), name=conv_name_base + '2c')(x)\n",
        "    x = BatchNormalization(axis=3, name=bn_name_base + '2c')(x)\n",
        "    ###############################\n",
        "   \n",
        "\n",
        "    x = layers.add([x, input_tensor])\n",
        "    x = Activation('relu')(x)\n",
        "    return x"
      ],
      "execution_count": 0,
      "outputs": []
    },
    {
      "cell_type": "markdown",
      "metadata": {
        "id": "6XccaNwvAEC2",
        "colab_type": "text"
      },
      "source": [
        "## 參考ResNetV1 搭建 ResNetV2版本的Residual Block"
      ]
    },
    {
      "cell_type": "code",
      "metadata": {
        "id": "jflKzzgOAEC3",
        "colab_type": "code",
        "colab": {}
      },
      "source": [
        "def Residual_block_v2(input_tensor, kernel_size, filters, stage, block):\n",
        "    filters1, filters2, filters3 = filters\n",
        "    conv_name_base = 'res' + str(stage) + block + '_branch'\n",
        "    bn_name_base = 'bn' + str(stage) + block + '_branch'\n",
        "\n",
        "    '''搭建V2版本Block'''\n",
        "    x = Conv2D(filters = filters1 , kernel_size = (1 , 1) , name = conv_name_base + '2a')(input_tensor)\n",
        "    x = BatchNormalization(axis = 3 , name = bn_name_base + '2a')(x)\n",
        "    x = Activation('relu')(x)\n",
        "\n",
        "    x = Conv2D(filters = filters2 , kernel_size = kernel_size , padding = 'same' , name = conv_name_base + '2b')(x)\n",
        "    x = BatchNormalization(axis = 3 , name = bn_name_base + '2b')(x)\n",
        "    x = Activation('relu')(x)\n",
        "\n",
        "    x = Conv2D(filters = filters3 , kernel_size = (1 , 1) , name = conv_name_base + '2c')(x)\n",
        "    x = BatchNormalization(axis = 3 , name = bn_name_base + '2c')(x)\n",
        "    x = Activation('relu')(x)\n",
        "\n",
        "    x = layers.add([input_tensor , x])\n",
        "\n",
        "    return x"
      ],
      "execution_count": 0,
      "outputs": []
    },
    {
      "cell_type": "markdown",
      "metadata": {
        "id": "AcS4v7W_AEC7",
        "colab_type": "text"
      },
      "source": [
        "## 試試看自己設計一個先壓縮再回放的V2 Block"
      ]
    },
    {
      "cell_type": "code",
      "metadata": {
        "id": "ho6XRg18AEC8",
        "colab_type": "code",
        "colab": {}
      },
      "source": [
        "def Residual_block_v2(input_tensor, kernel_size, stage, block,reduce=96,ouput_size=128):\n",
        "\n",
        "    # filter3 is channel or depth of feature map    \n",
        "    filters1, filters2, filters3 = filters\n",
        "    conv_name_base = 'res' + str(stage) + block + '_branch'\n",
        "    bn_name_base = 'bn' + str(stage) + block + '_branch'\n",
        "\n",
        "    '''搭建V2版本Block'''\n",
        "    x = BatchNormalization(axis = 3 , name = bn_name_base + '2a')(input_tensor)\n",
        "    x = Activation('relu')(x)\n",
        "    x = Conv2D(filters = filters1 , kernel_size = (1 , 1) , name = conv_name_base + '2a')(x)\n",
        "\n",
        "    x = BatchNormalization(axis = 3 , name = bn_name_base + '2b')(x)\n",
        "    x = Activation('relu')(x)\n",
        "    x = Conv2D(filters = filters2 , kernel_size = kernel_size , padding = 'same' , name = conv_name_base + '2b')(x)\n",
        "\n",
        "    x = BatchNormalization(axis = 3 , name = bn_name_base + '2c')(x)\n",
        "    x = Activation('relu')(x)\n",
        "    x = Conv2D(filters = filters3 , kernel_size = (1 , 1) , name = conv_name_base + '2c')(x)\n",
        "\n",
        "    x = layers.add([input_tensor , x])\n",
        "\n",
        "    return x"
      ],
      "execution_count": 0,
      "outputs": []
    },
    {
      "cell_type": "markdown",
      "metadata": {
        "id": "qMtjFsDNAEC_",
        "colab_type": "text"
      },
      "source": [
        "---"
      ]
    },
    {
      "cell_type": "markdown",
      "metadata": {
        "id": "xdFcu-ZaAEDA",
        "colab_type": "text"
      },
      "source": [
        "## Part2"
      ]
    },
    {
      "cell_type": "markdown",
      "metadata": {
        "colab_type": "text",
        "id": "tfa8Vx5iJbZU"
      },
      "source": [
        "## Incpetion Block-A"
      ]
    },
    {
      "cell_type": "markdown",
      "metadata": {
        "colab_type": "text",
        "id": "xbuyi79mJbZX"
      },
      "source": [
        "![Incpeiton](Inception-ResNet-A.png)"
      ]
    },
    {
      "cell_type": "markdown",
      "metadata": {
        "colab_type": "text",
        "id": "3GI24k24JbZa"
      },
      "source": [
        "## Incpetion Block-B"
      ]
    },
    {
      "cell_type": "markdown",
      "metadata": {
        "colab_type": "text",
        "id": "Ge28e58BJbZd"
      },
      "source": [
        "![Incpeiton](Inception-ResNet-B.png)"
      ]
    },
    {
      "cell_type": "markdown",
      "metadata": {
        "colab_type": "text",
        "id": "aMz1WNBsJbZg"
      },
      "source": [
        "## Incpetion Block-C"
      ]
    },
    {
      "cell_type": "markdown",
      "metadata": {
        "colab_type": "text",
        "id": "A4lY1HV6JbZj"
      },
      "source": [
        "![Incpeiton](Inception-ResNet-C.png)"
      ]
    },
    {
      "cell_type": "code",
      "metadata": {
        "colab_type": "code",
        "id": "t9IKAa_4JbZ1",
        "colab": {}
      },
      "source": [
        "def Conv2d_bn(x,filters,kernel_size,padding='same',strides=(1, 1),normalizer=True,activation='relu',name=None):\n",
        "    if name is not None:\n",
        "        conv_name = name + '_conv'\n",
        "        bn_name = name + '_bn'\n",
        "        act_name = name + '_act'\n",
        "    else:\n",
        "        conv_name = None\n",
        "        bn_name = None\n",
        "        act_name = None\n",
        "    if K.image_data_format() == 'channels_first':\n",
        "        bn_axis = 1\n",
        "    else:\n",
        "        bn_axis = 3\n",
        "    x = Conv2D(\n",
        "            filters, kernel_size,\n",
        "            strides=strides, padding=padding,\n",
        "            use_bias=False, name=conv_name)(x)\n",
        "    if normalizer:\n",
        "        x = BatchNormalization(axis=bn_axis, scale=False, name=bn_name)(x)\n",
        "    if activation:\n",
        "        x = Activation(activation, name=act_name)(x)\n",
        "    return x"
      ],
      "execution_count": 0,
      "outputs": []
    },
    {
      "cell_type": "code",
      "metadata": {
        "colab_type": "code",
        "id": "d7iVPJQkJbZ-",
        "colab": {}
      },
      "source": [
        "def Residual_block(input_tensor, kernel_size, filters, stage, block):\n",
        "    filters1, filters2, filters3 = filters\n",
        "    conv_name_base = 'res' + str(stage) + block + '_branch'\n",
        "    bn_name_base = 'bn' + str(stage) + block + '_branch'\n",
        "\n",
        "    x = Conv2D(filters1, (1, 1), name=conv_name_base + '2a')(input_tensor)\n",
        "    x = BatchNormalization(axis=3, name=bn_name_base + '2a')(x)\n",
        "    x = Activation('relu')(x)\n",
        "\n",
        "    # padding:default is valid\n",
        "    x = Conv2D(filters2, kernel_size,\n",
        "               padding='same', name=conv_name_base + '2b')(x)\n",
        "    x = BatchNormalization(axis=3, name=bn_name_base + '2b')(x)\n",
        "    x = Activation('relu')(x)\n",
        "\n",
        "    x = Conv2D(filters3, (1, 1), name=conv_name_base + '2c')(x)\n",
        "    x = BatchNormalization(axis=3, name=bn_name_base + '2c')(x)\n",
        "\n",
        "    x = layers.add([x, input_tensor])\n",
        "    x = Activation('relu')(x)\n",
        "    return x"
      ],
      "execution_count": 0,
      "outputs": []
    },
    {
      "cell_type": "markdown",
      "metadata": {
        "colab_type": "text",
        "id": "M0BEkO7VJbaI"
      },
      "source": [
        "## 參考上方Residual_block搭建 Inception-ResNet中的Inception Block"
      ]
    },
    {
      "cell_type": "code",
      "metadata": {
        "colab_type": "code",
        "id": "XJjxq9lWJbaN",
        "colab": {}
      },
      "source": [
        "def inception_resnet_block(x, scale, block_type, activation='relu'):\n",
        "    '''scale: scaling factor to scale the residuals (i.e., the output of\n",
        "            passing `x` through an inception module) before adding them\n",
        "            to the shortcut branch. Let `r` be the output from the residual branch,\n",
        "            the output of this block will be `x + scale * r`.(簡單來說就是控制Residual branch的比例)'''\n",
        "    if block_type == 'Incpetion_Block-A':\n",
        "      # Conv2d_bn(x,filters,kernel_size,padding='same',strides=(1, 1),normalizer=True,activation='relu',name=None)\n",
        "        \"\"\"\n",
        "        branch_0 = Conv2D(filters = 32 , kernel_size = (1 , 1) , padding = 'same' , strides = (1 , 1))(x)\n",
        "        branch_1 = Conv2D(filters = 32 , kernel_size = (1 , 1) , padding = 'same' , strides = (1 , 1))(x)\n",
        "        branch_1 = Conv2D(filters = 32 , kernel_size = (3 , 3) , padding = 'same' , strides = (1 , 1))(branch_1)\n",
        "        branch_2 = Conv2D(filters = 32 , kernel_size = (1 , 1) , padding = 'same' , strides = (1 , 1))(x)\n",
        "        branch_2 = Conv2D(filters = 48 , kernel_size = (3 , 3) , padding = 'same' , strides = (1 , 1))(branch_2)\n",
        "        branch_2 = Conv2D(filters = 64 , kernel_size = (3 , 3) , padding = 'same' , strides = (1 , 1))(branch_2)\n",
        "        \"\"\"\n",
        "        branch_0 = Conv2d_bn(x , filters = 32 , kernel_size = (1 , 1) , activation= None)\n",
        "        branch_1 = Conv2d_bn(x , filters = 32 , kernel_size = (1 , 1) , activation= None)\n",
        "        branch_2 = Conv2d_bn(x , filters = 32 , kernel_size = (1 , 1) , activation= None)\n",
        "        branch_2 = Conv2d_bn(branch_2 ,filters = 48 , kernel_size = (3 , 3) , activation= None)\n",
        "        branch_2 = Conv2d_bn(branch_2 ,filters = 64 , kernel_size = (3 , 3) , activation= None)\n",
        "\n",
        "        branches = [branch_0, branch_1, branch_2]\n",
        "    elif block_type == 'Incpetion_Block-B':\n",
        "        \"\"\"\n",
        "        branch_0 = Conv2D(filters = 192 , kernel_size = (1 , 1) , padding = 'same' , strides = (1 , 1))(x)\n",
        "        branch_1 = Conv2D(filters = 128 , kernel_size = (1 , 1) , padding = 'same' , strides = (1 , 1))(x)\n",
        "        branch_1 = Conv2D(filters = 160 , kernel_size = (1 , 7) , padding = 'same' , strides = (1 , 1))(branch_1)\n",
        "        branch_1 = Conv2D(filters = 192 , kernel_size = (7 , 1) , padding = 'same' , strides = (1 , 1))(branch_1)\n",
        "        \"\"\"\n",
        "        branch_0 = Conv2d_bn(x , filters = 192 , kernel_size = (1 , 1) , activation=None)\n",
        "        branch_1 = Conv2d_bn(x , filters = 128 , kernel_size = (1 , 1) , activation=None)\n",
        "        branch_1 = Conv2d_bn(branch_1 , filters = 160 , kernel_size = (1 , 7) , activation=None)\n",
        "        branch_1 = Conv2d_bn(branch_1 , filters = 192 , kernel_size = (7 , 1) , activation=None)\n",
        "\n",
        "        branches = [branch_0, branch_1]\n",
        "    elif block_type == 'Incpetion_Block-C':\n",
        "        \"\"\"\n",
        "        branch_0 = Conv2D(filters = 192 , kernel_size = (1 , 1) , padding = 'same' , strides = (1 , 1))(x)\n",
        "        branch_1 = Conv2D(filters = 192 , kernel_size = (1 , 1) , padding = 'same' , strides = (1 , 1))(x)\n",
        "        branch_1 = Conv2D(filters = 192 , kernel_size = (1 , 3) , padding = 'same' , strides = (1 , 1))(branch_1)\n",
        "        branch_1 = Conv2D(filters = 192 , kernel_size = (3 , 1) , padding = 'same' , strides = (1 , 1))(branch_1)\n",
        "        \"\"\"\n",
        "        branch_0 = Conv2d_bn(x , filters = 192 , kernel_size = (1 , 1) , activation=None)\n",
        "        branch_1 = Conv2d_bn(x , filters = 192 , kernel_size = (1 , 1) , activation=None)\n",
        "        branch_1 = Conv2d_bn(branch_1 , filters = 192 , kernel_size = (1 , 3) , activation=None)\n",
        "        branch_1 = Conv2d_bn(branch_1 , filters = 192 , kernel_size = (3 , 1) , activation=None)\n",
        "        branches = [branch_0, branch_1]\n",
        "    else:\n",
        "        raise ValueError('Unknown Inception-ResNet block type. '\n",
        "                         'Expects \"block35\", \"block17\" or \"block8\", '\n",
        "                         'but got: ' + str(block_type))\n",
        "    mixed = Concatenate(axis=3)(branches)\n",
        "    \n",
        "    '''確保輸入跟輸出深度相同'''\n",
        "    # int_shape:Returns the shape of tensor or variable as a tuple of int or None entries.\n",
        "    # activation:linear\n",
        "    up = Conv2d_bn(mixed,K.int_shape(x)[3],1,activation=None)\n",
        "    \n",
        "    '''導入殘差結構，並給予權重'''\n",
        "    # Wraps arbitrary expression as a Layer object.\n",
        "    ###############################\n",
        "    # original input is inputs[0] , input through inception layer is inputs[1]( i.e gamma)\n",
        "    # x[0] is sample size\n",
        "    x = Lambda(lambda inputs, scale: inputs[0]+ inputs[1] * scale, ##提示inputs[0]、inputs[1]\n",
        "               output_shape=K.int_shape(x)[1:],\n",
        "               arguments={'scale': scale})([x,up])\n",
        "    ###############################\n",
        "    \n",
        "    if activation is not None:\n",
        "        x = Activation(activation)(x)\n",
        "    return x\n"
      ],
      "execution_count": 0,
      "outputs": []
    },
    {
      "cell_type": "code",
      "metadata": {
        "colab_type": "code",
        "id": "wv-ni8GpJbaU",
        "outputId": "3c4553c2-cb69-4857-9f77-e87afdeb8ff8",
        "colab": {
          "base_uri": "https://localhost:8080/",
          "height": 34
        }
      },
      "source": [
        "img_input = Input(shape=(224,224,32))\n",
        "x=inception_resnet_block(img_input, 0.1, 'Incpetion_Block-A', activation='relu')\n",
        "print(x)"
      ],
      "execution_count": 29,
      "outputs": [
        {
          "output_type": "stream",
          "text": [
            "Tensor(\"activation_19/Relu:0\", shape=(?, 224, 224, 32), dtype=float32)\n"
          ],
          "name": "stdout"
        }
      ]
    },
    {
      "cell_type": "markdown",
      "metadata": {
        "colab_type": "text",
        "id": "HOBuOAjOJbab"
      },
      "source": [
        "## 測試"
      ]
    },
    {
      "cell_type": "code",
      "metadata": {
        "colab_type": "code",
        "id": "T-igNjppJbad",
        "outputId": "8616201a-9df8-4170-d9e6-27efa8e4e3ad",
        "colab": {
          "base_uri": "https://localhost:8080/",
          "height": 34
        }
      },
      "source": [
        "img_input = Input(shape=(224,224,32))\n",
        "x=inception_resnet_block(img_input, 0.1, 'Incpetion_Block-A', activation='relu')\n",
        "print(x)"
      ],
      "execution_count": 30,
      "outputs": [
        {
          "output_type": "stream",
          "text": [
            "Tensor(\"activation_20/Relu:0\", shape=(?, 224, 224, 32), dtype=float32)\n"
          ],
          "name": "stdout"
        }
      ]
    },
    {
      "cell_type": "code",
      "metadata": {
        "colab_type": "code",
        "id": "V7otKKZWJbah",
        "outputId": "30866958-1668-41e1-ec78-ccae05e67b7d",
        "colab": {
          "base_uri": "https://localhost:8080/",
          "height": 34
        }
      },
      "source": [
        "img_input = Input(shape=(224,224,32))\n",
        "x=inception_resnet_block(img_input, 0.1, 'Incpetion_Block-B', activation='relu')\n",
        "print(x)"
      ],
      "execution_count": 31,
      "outputs": [
        {
          "output_type": "stream",
          "text": [
            "Tensor(\"activation_21/Relu:0\", shape=(?, 224, 224, 32), dtype=float32)\n"
          ],
          "name": "stdout"
        }
      ]
    },
    {
      "cell_type": "code",
      "metadata": {
        "colab_type": "code",
        "id": "RjxCkTlHJbal",
        "outputId": "f9c97e9f-d6e0-4d21-c8c6-a993b3a7c968",
        "colab": {
          "base_uri": "https://localhost:8080/",
          "height": 34
        }
      },
      "source": [
        "img_input = Input(shape=(224,224,32))\n",
        "x=inception_resnet_block(img_input, 0.1, 'Incpetion_Block-C', activation='relu')\n",
        "print(x)"
      ],
      "execution_count": 32,
      "outputs": [
        {
          "output_type": "stream",
          "text": [
            "Tensor(\"activation_22/Relu:0\", shape=(?, 224, 224, 32), dtype=float32)\n"
          ],
          "name": "stdout"
        }
      ]
    },
    {
      "cell_type": "markdown",
      "metadata": {
        "colab_type": "text",
        "id": "UYD4kS0BJbao"
      },
      "source": [
        "## 嘗試導入Inception Block到 Vgg_Inception中"
      ]
    },
    {
      "cell_type": "code",
      "metadata": {
        "colab_type": "code",
        "id": "FEe8WW2qJbap",
        "colab": {}
      },
      "source": [
        "def VGG16_ResNet_Inception(include_top=True,input_tensor=None, input_shape=(224,224,1),\n",
        "          pooling='max',classes=1000):\n",
        " \n",
        "    img_input = Input(shape=input_shape)\n",
        "    \n",
        "    x = Conv2d_bn(img_input,64, (3, 3), activation='relu', padding='same', name='block1_conv1')\n",
        "    x = Conv2d_bn(x,64, (3, 3), activation='relu', padding='same', name='block1_conv2')\n",
        "    x = MaxPooling2D((2, 2), strides=(2, 2), name='block1_pool')(x)\n",
        "\n",
        "    # Block 2\n",
        "    x = Conv2d_bn(x,128, (3, 3), activation='relu', padding='same', name='block2_conv1')\n",
        "    x = Conv2d_bn(x,128, (3, 3), activation='relu', padding='same', name='block2_conv2')\n",
        "    x = MaxPooling2D((2, 2), strides=(2, 2), name='block2_pool')(x)\n",
        "\n",
        "    # Block 3\n",
        "    # inception_resnet_block(x, scale, block_type, activation='relu')\n",
        "    x = inception_resnet_block(x, 0.1, 'Incpetion_Block-A', activation='relu')\n",
        "    x = inception_resnet_block(x, 0.1, 'Incpetion_Block-A', activation='relu')\n",
        "    x = inception_resnet_block(x, 0.1, 'Incpetion_Block-A', activation='relu')\n",
        "    x = MaxPooling2D((2, 2), strides=(2, 2), name='block3_pool')(x)\n",
        "\n",
        "    # Block 4\n",
        "    x = Conv2d_bn(x,512, (3, 3), activation='relu', padding='same', name='block4_conv1')\n",
        "    x = Conv2d_bn(x,512, (3, 3), activation='relu', padding='same', name='block4_conv2')\n",
        "    x = Conv2d_bn(x,512, (3, 3), activation='relu', padding='same', name='block4_conv3')\n",
        "    x = MaxPooling2D((2, 2), strides=(2, 2), name='block4_pool')(x)\n",
        "\n",
        "    # Block 5 \n",
        "    #為什麼要加InceptionV3_block 原因?\n",
        "    x =inception_resnet_block(x, 0.1, 'Incpetion_Block-C', activation='relu')\n",
        "    x =inception_resnet_block(x, 0.1, 'Incpetion_Block-C', activation='relu')\n",
        "    x =inception_resnet_block(x, 0.1, 'Incpetion_Block-C', activation='relu')\n",
        "    x =MaxPooling2D((2, 2), strides=(2, 2), name='block5_pool')(x)\n",
        "\n",
        "    if include_top:\n",
        "        # Classification block\n",
        "        x = Flatten(name='flatten')(x)\n",
        "        x = Dense(4096, activation='relu', name='fc1')(x)\n",
        "        x = Dense(4096, activation='relu', name='fc2')(x)\n",
        "        x = Dense(classes, activation='softmax', name='predictions')(x)\n",
        "    else:\n",
        "       #可以提醒學員為什麼要加avg或是max\n",
        "        if pooling == 'avg':\n",
        "            x = GlobalAveragePooling2D()(x)\n",
        "        elif pooling == 'max':\n",
        "            x = GlobalMaxPooling2D()(x)\n",
        "\n",
        "    inputs = img_input\n",
        "    # Create model.\n",
        "    model = Model(inputs, x, name='vgg16')\n",
        "\n",
        "   \n",
        "    return model\n",
        "\n"
      ],
      "execution_count": 0,
      "outputs": []
    },
    {
      "cell_type": "code",
      "metadata": {
        "colab_type": "code",
        "id": "mQufg4jFJbas",
        "colab": {}
      },
      "source": [
        "model = VGG16_ResNet_Inception(include_top=False)"
      ],
      "execution_count": 0,
      "outputs": []
    },
    {
      "cell_type": "code",
      "metadata": {
        "colab_type": "code",
        "id": "e3WfMLiYJbav",
        "colab": {
          "base_uri": "https://localhost:8080/",
          "height": 1000
        },
        "outputId": "12c745c2-1a4b-4fe1-ac62-0e50a05845bc"
      },
      "source": [
        "model.summary()"
      ],
      "execution_count": 40,
      "outputs": [
        {
          "output_type": "stream",
          "text": [
            "Model: \"vgg16\"\n",
            "__________________________________________________________________________________________________\n",
            "Layer (type)                    Output Shape         Param #     Connected to                     \n",
            "==================================================================================================\n",
            "input_20 (InputLayer)           (None, 224, 224, 1)  0                                            \n",
            "__________________________________________________________________________________________________\n",
            "block1_conv1_conv (Conv2D)      (None, 224, 224, 64) 576         input_20[0][0]                   \n",
            "__________________________________________________________________________________________________\n",
            "block1_conv1_bn (BatchNormaliza (None, 224, 224, 64) 192         block1_conv1_conv[0][0]          \n",
            "__________________________________________________________________________________________________\n",
            "block1_conv1_act (Activation)   (None, 224, 224, 64) 0           block1_conv1_bn[0][0]            \n",
            "__________________________________________________________________________________________________\n",
            "block1_conv2_conv (Conv2D)      (None, 224, 224, 64) 36864       block1_conv1_act[0][0]           \n",
            "__________________________________________________________________________________________________\n",
            "block1_conv2_bn (BatchNormaliza (None, 224, 224, 64) 192         block1_conv2_conv[0][0]          \n",
            "__________________________________________________________________________________________________\n",
            "block1_conv2_act (Activation)   (None, 224, 224, 64) 0           block1_conv2_bn[0][0]            \n",
            "__________________________________________________________________________________________________\n",
            "block1_pool (MaxPooling2D)      (None, 112, 112, 64) 0           block1_conv2_act[0][0]           \n",
            "__________________________________________________________________________________________________\n",
            "block2_conv1_conv (Conv2D)      (None, 112, 112, 128 73728       block1_pool[0][0]                \n",
            "__________________________________________________________________________________________________\n",
            "block2_conv1_bn (BatchNormaliza (None, 112, 112, 128 384         block2_conv1_conv[0][0]          \n",
            "__________________________________________________________________________________________________\n",
            "block2_conv1_act (Activation)   (None, 112, 112, 128 0           block2_conv1_bn[0][0]            \n",
            "__________________________________________________________________________________________________\n",
            "block2_conv2_conv (Conv2D)      (None, 112, 112, 128 147456      block2_conv1_act[0][0]           \n",
            "__________________________________________________________________________________________________\n",
            "block2_conv2_bn (BatchNormaliza (None, 112, 112, 128 384         block2_conv2_conv[0][0]          \n",
            "__________________________________________________________________________________________________\n",
            "block2_conv2_act (Activation)   (None, 112, 112, 128 0           block2_conv2_bn[0][0]            \n",
            "__________________________________________________________________________________________________\n",
            "block2_pool (MaxPooling2D)      (None, 56, 56, 128)  0           block2_conv2_act[0][0]           \n",
            "__________________________________________________________________________________________________\n",
            "conv2d_104 (Conv2D)             (None, 56, 56, 32)   4096        block2_pool[0][0]                \n",
            "__________________________________________________________________________________________________\n",
            "batch_normalization_70 (BatchNo (None, 56, 56, 32)   96          conv2d_104[0][0]                 \n",
            "__________________________________________________________________________________________________\n",
            "conv2d_105 (Conv2D)             (None, 56, 56, 48)   13824       batch_normalization_70[0][0]     \n",
            "__________________________________________________________________________________________________\n",
            "batch_normalization_71 (BatchNo (None, 56, 56, 48)   144         conv2d_105[0][0]                 \n",
            "__________________________________________________________________________________________________\n",
            "conv2d_102 (Conv2D)             (None, 56, 56, 32)   4096        block2_pool[0][0]                \n",
            "__________________________________________________________________________________________________\n",
            "conv2d_103 (Conv2D)             (None, 56, 56, 32)   4096        block2_pool[0][0]                \n",
            "__________________________________________________________________________________________________\n",
            "conv2d_106 (Conv2D)             (None, 56, 56, 64)   27648       batch_normalization_71[0][0]     \n",
            "__________________________________________________________________________________________________\n",
            "batch_normalization_68 (BatchNo (None, 56, 56, 32)   96          conv2d_102[0][0]                 \n",
            "__________________________________________________________________________________________________\n",
            "batch_normalization_69 (BatchNo (None, 56, 56, 32)   96          conv2d_103[0][0]                 \n",
            "__________________________________________________________________________________________________\n",
            "batch_normalization_72 (BatchNo (None, 56, 56, 64)   192         conv2d_106[0][0]                 \n",
            "__________________________________________________________________________________________________\n",
            "concatenate_18 (Concatenate)    (None, 56, 56, 128)  0           batch_normalization_68[0][0]     \n",
            "                                                                 batch_normalization_69[0][0]     \n",
            "                                                                 batch_normalization_72[0][0]     \n",
            "__________________________________________________________________________________________________\n",
            "conv2d_107 (Conv2D)             (None, 56, 56, 128)  16384       concatenate_18[0][0]             \n",
            "__________________________________________________________________________________________________\n",
            "batch_normalization_73 (BatchNo (None, 56, 56, 128)  384         conv2d_107[0][0]                 \n",
            "__________________________________________________________________________________________________\n",
            "lambda_18 (Lambda)              (None, 56, 56, 128)  0           block2_pool[0][0]                \n",
            "                                                                 batch_normalization_73[0][0]     \n",
            "__________________________________________________________________________________________________\n",
            "activation_23 (Activation)      (None, 56, 56, 128)  0           lambda_18[0][0]                  \n",
            "__________________________________________________________________________________________________\n",
            "conv2d_110 (Conv2D)             (None, 56, 56, 32)   4096        activation_23[0][0]              \n",
            "__________________________________________________________________________________________________\n",
            "batch_normalization_76 (BatchNo (None, 56, 56, 32)   96          conv2d_110[0][0]                 \n",
            "__________________________________________________________________________________________________\n",
            "conv2d_111 (Conv2D)             (None, 56, 56, 48)   13824       batch_normalization_76[0][0]     \n",
            "__________________________________________________________________________________________________\n",
            "batch_normalization_77 (BatchNo (None, 56, 56, 48)   144         conv2d_111[0][0]                 \n",
            "__________________________________________________________________________________________________\n",
            "conv2d_108 (Conv2D)             (None, 56, 56, 32)   4096        activation_23[0][0]              \n",
            "__________________________________________________________________________________________________\n",
            "conv2d_109 (Conv2D)             (None, 56, 56, 32)   4096        activation_23[0][0]              \n",
            "__________________________________________________________________________________________________\n",
            "conv2d_112 (Conv2D)             (None, 56, 56, 64)   27648       batch_normalization_77[0][0]     \n",
            "__________________________________________________________________________________________________\n",
            "batch_normalization_74 (BatchNo (None, 56, 56, 32)   96          conv2d_108[0][0]                 \n",
            "__________________________________________________________________________________________________\n",
            "batch_normalization_75 (BatchNo (None, 56, 56, 32)   96          conv2d_109[0][0]                 \n",
            "__________________________________________________________________________________________________\n",
            "batch_normalization_78 (BatchNo (None, 56, 56, 64)   192         conv2d_112[0][0]                 \n",
            "__________________________________________________________________________________________________\n",
            "concatenate_19 (Concatenate)    (None, 56, 56, 128)  0           batch_normalization_74[0][0]     \n",
            "                                                                 batch_normalization_75[0][0]     \n",
            "                                                                 batch_normalization_78[0][0]     \n",
            "__________________________________________________________________________________________________\n",
            "conv2d_113 (Conv2D)             (None, 56, 56, 128)  16384       concatenate_19[0][0]             \n",
            "__________________________________________________________________________________________________\n",
            "batch_normalization_79 (BatchNo (None, 56, 56, 128)  384         conv2d_113[0][0]                 \n",
            "__________________________________________________________________________________________________\n",
            "lambda_19 (Lambda)              (None, 56, 56, 128)  0           activation_23[0][0]              \n",
            "                                                                 batch_normalization_79[0][0]     \n",
            "__________________________________________________________________________________________________\n",
            "activation_24 (Activation)      (None, 56, 56, 128)  0           lambda_19[0][0]                  \n",
            "__________________________________________________________________________________________________\n",
            "conv2d_116 (Conv2D)             (None, 56, 56, 32)   4096        activation_24[0][0]              \n",
            "__________________________________________________________________________________________________\n",
            "batch_normalization_82 (BatchNo (None, 56, 56, 32)   96          conv2d_116[0][0]                 \n",
            "__________________________________________________________________________________________________\n",
            "conv2d_117 (Conv2D)             (None, 56, 56, 48)   13824       batch_normalization_82[0][0]     \n",
            "__________________________________________________________________________________________________\n",
            "batch_normalization_83 (BatchNo (None, 56, 56, 48)   144         conv2d_117[0][0]                 \n",
            "__________________________________________________________________________________________________\n",
            "conv2d_114 (Conv2D)             (None, 56, 56, 32)   4096        activation_24[0][0]              \n",
            "__________________________________________________________________________________________________\n",
            "conv2d_115 (Conv2D)             (None, 56, 56, 32)   4096        activation_24[0][0]              \n",
            "__________________________________________________________________________________________________\n",
            "conv2d_118 (Conv2D)             (None, 56, 56, 64)   27648       batch_normalization_83[0][0]     \n",
            "__________________________________________________________________________________________________\n",
            "batch_normalization_80 (BatchNo (None, 56, 56, 32)   96          conv2d_114[0][0]                 \n",
            "__________________________________________________________________________________________________\n",
            "batch_normalization_81 (BatchNo (None, 56, 56, 32)   96          conv2d_115[0][0]                 \n",
            "__________________________________________________________________________________________________\n",
            "batch_normalization_84 (BatchNo (None, 56, 56, 64)   192         conv2d_118[0][0]                 \n",
            "__________________________________________________________________________________________________\n",
            "concatenate_20 (Concatenate)    (None, 56, 56, 128)  0           batch_normalization_80[0][0]     \n",
            "                                                                 batch_normalization_81[0][0]     \n",
            "                                                                 batch_normalization_84[0][0]     \n",
            "__________________________________________________________________________________________________\n",
            "conv2d_119 (Conv2D)             (None, 56, 56, 128)  16384       concatenate_20[0][0]             \n",
            "__________________________________________________________________________________________________\n",
            "batch_normalization_85 (BatchNo (None, 56, 56, 128)  384         conv2d_119[0][0]                 \n",
            "__________________________________________________________________________________________________\n",
            "lambda_20 (Lambda)              (None, 56, 56, 128)  0           activation_24[0][0]              \n",
            "                                                                 batch_normalization_85[0][0]     \n",
            "__________________________________________________________________________________________________\n",
            "activation_25 (Activation)      (None, 56, 56, 128)  0           lambda_20[0][0]                  \n",
            "__________________________________________________________________________________________________\n",
            "block3_pool (MaxPooling2D)      (None, 28, 28, 128)  0           activation_25[0][0]              \n",
            "__________________________________________________________________________________________________\n",
            "block4_conv1_conv (Conv2D)      (None, 28, 28, 512)  589824      block3_pool[0][0]                \n",
            "__________________________________________________________________________________________________\n",
            "block4_conv1_bn (BatchNormaliza (None, 28, 28, 512)  1536        block4_conv1_conv[0][0]          \n",
            "__________________________________________________________________________________________________\n",
            "block4_conv1_act (Activation)   (None, 28, 28, 512)  0           block4_conv1_bn[0][0]            \n",
            "__________________________________________________________________________________________________\n",
            "block4_conv2_conv (Conv2D)      (None, 28, 28, 512)  2359296     block4_conv1_act[0][0]           \n",
            "__________________________________________________________________________________________________\n",
            "block4_conv2_bn (BatchNormaliza (None, 28, 28, 512)  1536        block4_conv2_conv[0][0]          \n",
            "__________________________________________________________________________________________________\n",
            "block4_conv2_act (Activation)   (None, 28, 28, 512)  0           block4_conv2_bn[0][0]            \n",
            "__________________________________________________________________________________________________\n",
            "block4_conv3_conv (Conv2D)      (None, 28, 28, 512)  2359296     block4_conv2_act[0][0]           \n",
            "__________________________________________________________________________________________________\n",
            "block4_conv3_bn (BatchNormaliza (None, 28, 28, 512)  1536        block4_conv3_conv[0][0]          \n",
            "__________________________________________________________________________________________________\n",
            "block4_conv3_act (Activation)   (None, 28, 28, 512)  0           block4_conv3_bn[0][0]            \n",
            "__________________________________________________________________________________________________\n",
            "block4_pool (MaxPooling2D)      (None, 14, 14, 512)  0           block4_conv3_act[0][0]           \n",
            "__________________________________________________________________________________________________\n",
            "conv2d_121 (Conv2D)             (None, 14, 14, 192)  98304       block4_pool[0][0]                \n",
            "__________________________________________________________________________________________________\n",
            "batch_normalization_87 (BatchNo (None, 14, 14, 192)  576         conv2d_121[0][0]                 \n",
            "__________________________________________________________________________________________________\n",
            "conv2d_122 (Conv2D)             (None, 14, 14, 192)  110592      batch_normalization_87[0][0]     \n",
            "__________________________________________________________________________________________________\n",
            "batch_normalization_88 (BatchNo (None, 14, 14, 192)  576         conv2d_122[0][0]                 \n",
            "__________________________________________________________________________________________________\n",
            "conv2d_120 (Conv2D)             (None, 14, 14, 192)  98304       block4_pool[0][0]                \n",
            "__________________________________________________________________________________________________\n",
            "conv2d_123 (Conv2D)             (None, 14, 14, 192)  110592      batch_normalization_88[0][0]     \n",
            "__________________________________________________________________________________________________\n",
            "batch_normalization_86 (BatchNo (None, 14, 14, 192)  576         conv2d_120[0][0]                 \n",
            "__________________________________________________________________________________________________\n",
            "batch_normalization_89 (BatchNo (None, 14, 14, 192)  576         conv2d_123[0][0]                 \n",
            "__________________________________________________________________________________________________\n",
            "concatenate_21 (Concatenate)    (None, 14, 14, 384)  0           batch_normalization_86[0][0]     \n",
            "                                                                 batch_normalization_89[0][0]     \n",
            "__________________________________________________________________________________________________\n",
            "conv2d_124 (Conv2D)             (None, 14, 14, 512)  196608      concatenate_21[0][0]             \n",
            "__________________________________________________________________________________________________\n",
            "batch_normalization_90 (BatchNo (None, 14, 14, 512)  1536        conv2d_124[0][0]                 \n",
            "__________________________________________________________________________________________________\n",
            "lambda_21 (Lambda)              (None, 14, 14, 512)  0           block4_pool[0][0]                \n",
            "                                                                 batch_normalization_90[0][0]     \n",
            "__________________________________________________________________________________________________\n",
            "activation_26 (Activation)      (None, 14, 14, 512)  0           lambda_21[0][0]                  \n",
            "__________________________________________________________________________________________________\n",
            "conv2d_126 (Conv2D)             (None, 14, 14, 192)  98304       activation_26[0][0]              \n",
            "__________________________________________________________________________________________________\n",
            "batch_normalization_92 (BatchNo (None, 14, 14, 192)  576         conv2d_126[0][0]                 \n",
            "__________________________________________________________________________________________________\n",
            "conv2d_127 (Conv2D)             (None, 14, 14, 192)  110592      batch_normalization_92[0][0]     \n",
            "__________________________________________________________________________________________________\n",
            "batch_normalization_93 (BatchNo (None, 14, 14, 192)  576         conv2d_127[0][0]                 \n",
            "__________________________________________________________________________________________________\n",
            "conv2d_125 (Conv2D)             (None, 14, 14, 192)  98304       activation_26[0][0]              \n",
            "__________________________________________________________________________________________________\n",
            "conv2d_128 (Conv2D)             (None, 14, 14, 192)  110592      batch_normalization_93[0][0]     \n",
            "__________________________________________________________________________________________________\n",
            "batch_normalization_91 (BatchNo (None, 14, 14, 192)  576         conv2d_125[0][0]                 \n",
            "__________________________________________________________________________________________________\n",
            "batch_normalization_94 (BatchNo (None, 14, 14, 192)  576         conv2d_128[0][0]                 \n",
            "__________________________________________________________________________________________________\n",
            "concatenate_22 (Concatenate)    (None, 14, 14, 384)  0           batch_normalization_91[0][0]     \n",
            "                                                                 batch_normalization_94[0][0]     \n",
            "__________________________________________________________________________________________________\n",
            "conv2d_129 (Conv2D)             (None, 14, 14, 512)  196608      concatenate_22[0][0]             \n",
            "__________________________________________________________________________________________________\n",
            "batch_normalization_95 (BatchNo (None, 14, 14, 512)  1536        conv2d_129[0][0]                 \n",
            "__________________________________________________________________________________________________\n",
            "lambda_22 (Lambda)              (None, 14, 14, 512)  0           activation_26[0][0]              \n",
            "                                                                 batch_normalization_95[0][0]     \n",
            "__________________________________________________________________________________________________\n",
            "activation_27 (Activation)      (None, 14, 14, 512)  0           lambda_22[0][0]                  \n",
            "__________________________________________________________________________________________________\n",
            "conv2d_131 (Conv2D)             (None, 14, 14, 192)  98304       activation_27[0][0]              \n",
            "__________________________________________________________________________________________________\n",
            "batch_normalization_97 (BatchNo (None, 14, 14, 192)  576         conv2d_131[0][0]                 \n",
            "__________________________________________________________________________________________________\n",
            "conv2d_132 (Conv2D)             (None, 14, 14, 192)  110592      batch_normalization_97[0][0]     \n",
            "__________________________________________________________________________________________________\n",
            "batch_normalization_98 (BatchNo (None, 14, 14, 192)  576         conv2d_132[0][0]                 \n",
            "__________________________________________________________________________________________________\n",
            "conv2d_130 (Conv2D)             (None, 14, 14, 192)  98304       activation_27[0][0]              \n",
            "__________________________________________________________________________________________________\n",
            "conv2d_133 (Conv2D)             (None, 14, 14, 192)  110592      batch_normalization_98[0][0]     \n",
            "__________________________________________________________________________________________________\n",
            "batch_normalization_96 (BatchNo (None, 14, 14, 192)  576         conv2d_130[0][0]                 \n",
            "__________________________________________________________________________________________________\n",
            "batch_normalization_99 (BatchNo (None, 14, 14, 192)  576         conv2d_133[0][0]                 \n",
            "__________________________________________________________________________________________________\n",
            "concatenate_23 (Concatenate)    (None, 14, 14, 384)  0           batch_normalization_96[0][0]     \n",
            "                                                                 batch_normalization_99[0][0]     \n",
            "__________________________________________________________________________________________________\n",
            "conv2d_134 (Conv2D)             (None, 14, 14, 512)  196608      concatenate_23[0][0]             \n",
            "__________________________________________________________________________________________________\n",
            "batch_normalization_100 (BatchN (None, 14, 14, 512)  1536        conv2d_134[0][0]                 \n",
            "__________________________________________________________________________________________________\n",
            "lambda_23 (Lambda)              (None, 14, 14, 512)  0           activation_27[0][0]              \n",
            "                                                                 batch_normalization_100[0][0]    \n",
            "__________________________________________________________________________________________________\n",
            "activation_28 (Activation)      (None, 14, 14, 512)  0           lambda_23[0][0]                  \n",
            "__________________________________________________________________________________________________\n",
            "block5_pool (MaxPooling2D)      (None, 7, 7, 512)    0           activation_28[0][0]              \n",
            "__________________________________________________________________________________________________\n",
            "global_max_pooling2d_2 (GlobalM (None, 512)          0           block5_pool[0][0]                \n",
            "==================================================================================================\n",
            "Total params: 7,640,976\n",
            "Trainable params: 7,627,440\n",
            "Non-trainable params: 13,536\n",
            "__________________________________________________________________________________________________\n"
          ],
          "name": "stdout"
        }
      ]
    }
  ]
}
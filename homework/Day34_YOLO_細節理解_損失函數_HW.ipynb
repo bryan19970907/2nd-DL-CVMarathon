{
  "nbformat": 4,
  "nbformat_minor": 0,
  "metadata": {
    "kernelspec": {
      "display_name": "Python 3",
      "language": "python",
      "name": "python3"
    },
    "language_info": {
      "codemirror_mode": {
        "name": "ipython",
        "version": 3
      },
      "file_extension": ".py",
      "mimetype": "text/x-python",
      "name": "python",
      "nbconvert_exporter": "python",
      "pygments_lexer": "ipython3",
      "version": "3.6.1"
    },
    "colab": {
      "name": "Day34.YOLO 細節理解 - 損失函數_HW.ipynb",
      "provenance": []
    }
  },
  "cells": [
    {
      "cell_type": "markdown",
      "metadata": {
        "id": "Bnmm4e85ZBf2",
        "colab_type": "text"
      },
      "source": [
        "## Day34.YOLO 細節理解 - 損失函數\n",
        "今天的課程，我們講述了\n",
        "* 損失函數是描述模型預測出來的結果和實際的差異的依據    \n",
        "* YOLO 損失函數的設計包含物件位置的定位與物件類別辨識    \n",
        "* YOLO損失函數透過超參數設定模型有不同的辨識能力    \n",
        "\n"
      ]
    },
    {
      "cell_type": "markdown",
      "metadata": {
        "id": "exUoZwe5ZBf9",
        "colab_type": "text"
      },
      "source": [
        "### 作業\n",
        "仔細觀察，bbox 寬高計算損失方式和bbox中心計算損失方式有哪邊不一樣嗎? 為什麼要有不同的設計?\n",
        "![title](loss function.png)\n",
        "\n"
      ]
    },
    {
      "cell_type": "code",
      "metadata": {
        "id": "8rmQogtPZBf_",
        "colab_type": "code",
        "outputId": "bff3be5a-f9af-460d-f20f-3aa888690731",
        "colab": {
          "base_uri": "https://localhost:8080/",
          "height": 53
        }
      },
      "source": [
        "\"\"\"\n",
        "bbox中心計算損失採用sum of square error，用距離平方來計算損失\n",
        "bbox寬高原本就是小於1的比例(比如說佔原圖寬度的0.2)，如果直接採用相減再平方，則預測框與標註框的尺度差異會被縮小，如果先開根號再相減，則可以擁有比較大的值。\n",
        "\"\"\""
      ],
      "execution_count": 1,
      "outputs": [
        {
          "output_type": "execute_result",
          "data": {
            "text/plain": [
              "'\\nbbox中心計算損失採用sum of square error，用距離平方來計算損失\\nbbox寬高原本就是小於1的比例(比如說佔原圖寬度的0.2)，如果直接採用相減再平方，則預測框與標註框的尺度差異會被縮小，如果先開根號再相減，則可以擁有比較大的值。\\n'"
            ]
          },
          "metadata": {
            "tags": []
          },
          "execution_count": 1
        }
      ]
    }
  ]
}
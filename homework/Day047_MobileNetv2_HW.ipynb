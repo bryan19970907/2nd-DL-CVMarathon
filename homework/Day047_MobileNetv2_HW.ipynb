{
  "nbformat": 4,
  "nbformat_minor": 0,
  "metadata": {
    "kernelspec": {
      "display_name": "Python 3",
      "language": "python",
      "name": "python3"
    },
    "language_info": {
      "codemirror_mode": {
        "name": "ipython",
        "version": 3
      },
      "file_extension": ".py",
      "mimetype": "text/x-python",
      "name": "python",
      "nbconvert_exporter": "python",
      "pygments_lexer": "ipython3",
      "version": "3.5.4"
    },
    "colab": {
      "name": "Day047_MobileNetv2_HW.ipynb",
      "provenance": []
    }
  },
  "cells": [
    {
      "cell_type": "markdown",
      "metadata": {
        "id": "0TTlpH0c0WDe",
        "colab_type": "text"
      },
      "source": [
        "# 作業"
      ]
    },
    {
      "cell_type": "markdown",
      "metadata": {
        "id": "XmMtiXsN0WDg",
        "colab_type": "text"
      },
      "source": [
        "### 嘗試用 keras 的 DepthwiseConv2D 等 layers 實做 Inverted Residual Block.\n",
        "   - depthwise's filter shape 爲 (3,3), padding = same\n",
        "   - 不需要給 alpha, depth multiplier 參數\n",
        "   - expansion 因子爲 6"
      ]
    },
    {
      "cell_type": "markdown",
      "metadata": {
        "id": "jFTy2iaD0WDg",
        "colab_type": "text"
      },
      "source": [
        "##### 載入套件"
      ]
    },
    {
      "cell_type": "code",
      "metadata": {
        "id": "toKEmJvk0WDh",
        "colab_type": "code",
        "colab": {}
      },
      "source": [
        "from keras.models import Input, Model\n",
        "from keras.layers import DepthwiseConv2D, Conv2D, BatchNormalization, Activation, Add"
      ],
      "execution_count": 0,
      "outputs": []
    },
    {
      "cell_type": "markdown",
      "metadata": {
        "id": "zE2LdZEO0WDl",
        "colab_type": "text"
      },
      "source": [
        "##### 定義 Separable Convolution 函數 (請在此實做)"
      ]
    },
    {
      "cell_type": "code",
      "metadata": {
        "id": "EFc1oo_k0WDm",
        "colab_type": "code",
        "colab": {}
      },
      "source": [
        "def InvertedRes(input, expansion):\n",
        "    '''\n",
        "    Args:\n",
        "        input: input tensor\n",
        "        expansion: expand filters size\n",
        "    Output:\n",
        "        output: output tensor\n",
        "    '''\n",
        "    x = Conv2D(filters = expansion * 3 , kernel_size= (1,1), padding='same')(input)\n",
        "    x = BatchNormalization()(x)\n",
        "    x = Activation('relu')(x)\n",
        "\n",
        "    x = DepthwiseConv2D(kernel_size= (3 , 3) , padding = 'same')(x)\n",
        "    x = BatchNormalization()(x)\n",
        "    x = Activation('relu')(x)\n",
        "\n",
        "\n",
        "    x = Conv2D(filters = 3 , kernel_size = (1 , 1))(x)\n",
        "    x = BatchNormalization()(x)\n",
        "    x = Activation('relu')(x)\n",
        "\n",
        "    output_tensor = Add()([x , input])\n",
        "\n",
        "    return output_tensor\n"
      ],
      "execution_count": 0,
      "outputs": []
    },
    {
      "cell_type": "markdown",
      "metadata": {
        "id": "XAy4-U4x0WDr",
        "colab_type": "text"
      },
      "source": [
        "##### 建構模型"
      ]
    },
    {
      "cell_type": "code",
      "metadata": {
        "id": "Ox29gDz70WDr",
        "colab_type": "code",
        "colab": {
          "base_uri": "https://localhost:8080/",
          "height": 535
        },
        "outputId": "8bcad1be-a111-4651-c13e-36c75d5a92f6"
      },
      "source": [
        "input = Input((64, 64, 3))\n",
        "output = InvertedRes(input, 6)\n",
        "model = Model(inputs=input, outputs=output)\n",
        "model.summary()"
      ],
      "execution_count": 14,
      "outputs": [
        {
          "output_type": "stream",
          "text": [
            "Model: \"model_3\"\n",
            "__________________________________________________________________________________________________\n",
            "Layer (type)                    Output Shape         Param #     Connected to                     \n",
            "==================================================================================================\n",
            "input_5 (InputLayer)            (None, 64, 64, 3)    0                                            \n",
            "__________________________________________________________________________________________________\n",
            "conv2d_5 (Conv2D)               (None, 64, 64, 18)   72          input_5[0][0]                    \n",
            "__________________________________________________________________________________________________\n",
            "batch_normalization_9 (BatchNor (None, 64, 64, 18)   72          conv2d_5[0][0]                   \n",
            "__________________________________________________________________________________________________\n",
            "activation_8 (Activation)       (None, 64, 64, 18)   0           batch_normalization_9[0][0]      \n",
            "__________________________________________________________________________________________________\n",
            "depthwise_conv2d_5 (DepthwiseCo (None, 64, 64, 18)   180         activation_8[0][0]               \n",
            "__________________________________________________________________________________________________\n",
            "batch_normalization_10 (BatchNo (None, 64, 64, 18)   72          depthwise_conv2d_5[0][0]         \n",
            "__________________________________________________________________________________________________\n",
            "activation_9 (Activation)       (None, 64, 64, 18)   0           batch_normalization_10[0][0]     \n",
            "__________________________________________________________________________________________________\n",
            "conv2d_6 (Conv2D)               (None, 64, 64, 3)    57          activation_9[0][0]               \n",
            "__________________________________________________________________________________________________\n",
            "batch_normalization_11 (BatchNo (None, 64, 64, 3)    12          conv2d_6[0][0]                   \n",
            "__________________________________________________________________________________________________\n",
            "activation_10 (Activation)      (None, 64, 64, 3)    0           batch_normalization_11[0][0]     \n",
            "__________________________________________________________________________________________________\n",
            "add_4 (Add)                     (None, 64, 64, 3)    0           activation_10[0][0]              \n",
            "                                                                 input_5[0][0]                    \n",
            "==================================================================================================\n",
            "Total params: 465\n",
            "Trainable params: 387\n",
            "Non-trainable params: 78\n",
            "__________________________________________________________________________________________________\n"
          ],
          "name": "stdout"
        }
      ]
    },
    {
      "cell_type": "code",
      "metadata": {
        "id": "-yMpt7ob0WDw",
        "colab_type": "code",
        "colab": {}
      },
      "source": [
        ""
      ],
      "execution_count": 0,
      "outputs": []
    }
  ]
}
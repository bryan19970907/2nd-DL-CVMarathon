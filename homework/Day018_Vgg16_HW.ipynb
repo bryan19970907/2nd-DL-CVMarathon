{
  "nbformat": 4,
  "nbformat_minor": 0,
  "metadata": {
    "kernelspec": {
      "display_name": "Python 3",
      "language": "python",
      "name": "python3"
    },
    "language_info": {
      "codemirror_mode": {
        "name": "ipython",
        "version": 3
      },
      "file_extension": ".py",
      "mimetype": "text/x-python",
      "name": "python",
      "nbconvert_exporter": "python",
      "pygments_lexer": "ipython3",
      "version": "3.6.7"
    },
    "colab": {
      "name": "Day018_Vgg16_HW.ipynb",
      "provenance": [],
      "collapsed_sections": []
    }
  },
  "cells": [
    {
      "cell_type": "markdown",
      "metadata": {
        "id": "tn55OGY0-7Ac",
        "colab_type": "text"
      },
      "source": [
        "## 『本次練習內容』\n",
        "#### 學習如何搭建Vgg16模型"
      ]
    },
    {
      "cell_type": "markdown",
      "metadata": {
        "id": "45XzzJnT-7Ai",
        "colab_type": "text"
      },
      "source": [
        "## 『本次練習目的』\n",
        "  #### 熟悉經典Vgg模型的搭建\n",
        "  #### 時間較為充裕的學員可以嘗試搭建Vgg19當作練習"
      ]
    },
    {
      "cell_type": "markdown",
      "metadata": {
        "id": "8JatXFaw-7Aj",
        "colab_type": "text"
      },
      "source": [
        "---"
      ]
    },
    {
      "cell_type": "markdown",
      "metadata": {
        "id": "XI-5680h-7Ak",
        "colab_type": "text"
      },
      "source": [
        "##### 請參考下面結構圖搭建Vgg16模型"
      ]
    },
    {
      "cell_type": "markdown",
      "metadata": {
        "id": "Wo1UAWV5-7Al",
        "colab_type": "text"
      },
      "source": [
        "![vgg16](VGG16_p.png)"
      ]
    },
    {
      "cell_type": "code",
      "metadata": {
        "id": "hNo-XESW-7Am",
        "colab_type": "code",
        "colab": {
          "base_uri": "https://localhost:8080/",
          "height": 79
        },
        "outputId": "9e57b6e5-6f8e-4aed-cc3e-cf3dbd11c738"
      },
      "source": [
        "import numpy as np\n",
        "from keras.models import Model\n",
        "from keras.layers import Flatten\n",
        "from keras.layers import Dense\n",
        "###\n",
        "from keras.layers import Input\n",
        "###\n",
        "from keras.layers import Conv2D\n",
        "from keras.layers import MaxPooling2D\n",
        "from keras.layers import GlobalMaxPooling2D\n",
        "from keras.layers import GlobalAveragePooling2D\n",
        "from keras import backend as K\n",
        "\n",
        "\n",
        "\n",
        "def VGG16(include_top=True,input_tensor=None, input_shape=(224,224,1),\n",
        "          pooling='max',classes=1000):\n",
        " \n",
        "    img_input = Input(shape=input_shape)\n",
        "\n",
        "    x = Conv2D(filters = 64 , kernel_size = (3, 3) , activation='relu', padding='same', name='block1_conv1')(img_input)\n",
        "    x = Conv2D(filters = 64 , kernel_size = (3, 3) , activation='relu', padding='same', name='block1_conv2')(x)\n",
        "    x = MaxPooling2D(pool_size = (2, 2) , strides=(2, 2) , padding = 'valid' , name='block1_pool')(x)\n",
        "\n",
        "    # Block 2\n",
        "    x = Conv2D(filters = 128 , kernel_size = (3, 3), activation='relu', padding='same', name='block2_conv1')(x)\n",
        "    x = Conv2D(filters = 128 , kernel_size = (3, 3), activation='relu', padding='same', name='block2_conv2')(x)\n",
        "    x = MaxPooling2D(pool_size = (2, 2), strides=(2, 2), name='block2_pool')(x)\n",
        "\n",
        "    # Block 3\n",
        "    '''可參考上面的搭法'''\n",
        "    x = Conv2D(filters = 256 , kernel_size = (3, 3), activation='relu', padding='same', name='block3_conv1')(x)\n",
        "    x = Conv2D(filters = 256 , kernel_size = (3, 3), activation='relu', padding='same', name='block3_conv2')(x)\n",
        "    x = Conv2D(filters = 256 , kernel_size = (3, 3), activation='relu', padding='same', name='block3_conv3')(x)\n",
        "    x = MaxPooling2D(pool_size = (2, 2), strides=(2, 2), name='block3_pool')(x)\n",
        "\n",
        "    # Block 4\n",
        "    '''可參考上面的搭法'''\n",
        "    x = Conv2D(filters = 512 , kernel_size = (3, 3), activation='relu', padding='same', name='block4_conv1')(x)\n",
        "    x = Conv2D(filters = 512 , kernel_size = (3, 3), activation='relu', padding='same', name='block4_conv2')(x)\n",
        "    x = Conv2D(filters = 512 , kernel_size = (3, 3), activation='relu', padding='same', name='block4_conv3')(x)\n",
        "    x = MaxPooling2D(pool_size = (2, 2), strides=(2, 2), name='block4_pool')(x)\n",
        "  \n",
        "    # Block 5\n",
        "    '''可參考上面的搭法'''\n",
        "    x = Conv2D(filters = 512 , kernel_size = (3, 3), activation='relu', padding='same', name='block5_conv1')(x)\n",
        "    x = Conv2D(filters = 512 , kernel_size = (3, 3), activation='relu', padding='same', name='block5_conv2')(x)\n",
        "    x = Conv2D(filters = 512 , kernel_size = (3, 3), activation='relu', padding='same', name='block5_conv3')(x)\n",
        "    x = MaxPooling2D(pool_size = (2, 2), strides=(2, 2), name='block5_pool')(x)\n",
        "\n",
        "    if include_top:\n",
        "        # Classification block\n",
        "        x = Flatten(name='flatten')(x)\n",
        "        x = Dense(units = 4096 , activation='relu', name='fc1')(x)\n",
        "        x = Dense(units = 4096 , activation='relu', name='fc2')(x)\n",
        "        outputs = Dense(classes, activation= 'softmax' , name='predictions')(x)\n",
        "    else:\n",
        "        # choose what method to use before input to FC\n",
        "        if pooling == 'avg':\n",
        "            x = GlobalAveragePooling2D()(x)\n",
        "            ####\n",
        "            x = Dense(units = 4096 , activation='relu', name='fc1')(x)\n",
        "            x = Dense(units = 4096 , activation='relu', name='fc2')(x)\n",
        "            outputs = Dense(classes, activation= 'softmax' , name='predictions')(x)\n",
        "            ####\n",
        "        elif pooling == 'max':\n",
        "            x = GlobalMaxPooling2D()(x)\n",
        "            ####\n",
        "            x = Dense(units = 4096 , activation='relu', name='fc1')(x)\n",
        "            x = Dense(units = 4096 , activation='relu', name='fc2')(x)\n",
        "            outputs = Dense(classes, activation= 'softmax' , name='predictions')(x)\n",
        "            ####\n",
        "\n",
        "    inputs = img_input\n",
        "    # Create model.\n",
        "    model = Model(inputs = inputs , outputs = outputs, name='vgg16')\n",
        "\n",
        "   \n",
        "    return model\n",
        "\n"
      ],
      "execution_count": 1,
      "outputs": [
        {
          "output_type": "stream",
          "text": [
            "Using TensorFlow backend.\n"
          ],
          "name": "stderr"
        },
        {
          "output_type": "display_data",
          "data": {
            "text/html": [
              "<p style=\"color: red;\">\n",
              "The default version of TensorFlow in Colab will soon switch to TensorFlow 2.x.<br>\n",
              "We recommend you <a href=\"https://www.tensorflow.org/guide/migrate\" target=\"_blank\">upgrade</a> now \n",
              "or ensure your notebook will continue to use TensorFlow 1.x via the <code>%tensorflow_version 1.x</code> magic:\n",
              "<a href=\"https://colab.research.google.com/notebooks/tensorflow_version.ipynb\" target=\"_blank\">more info</a>.</p>\n"
            ],
            "text/plain": [
              "<IPython.core.display.HTML object>"
            ]
          },
          "metadata": {
            "tags": []
          }
        }
      ]
    },
    {
      "cell_type": "code",
      "metadata": {
        "id": "LaSFwbOG-7As",
        "colab_type": "code",
        "colab": {
          "base_uri": "https://localhost:8080/",
          "height": 170
        },
        "outputId": "3d6b9e41-009e-484e-dccd-f6b7f1a129cd"
      },
      "source": [
        "model = VGG16(include_top=False)"
      ],
      "execution_count": 2,
      "outputs": [
        {
          "output_type": "stream",
          "text": [
            "WARNING:tensorflow:From /usr/local/lib/python3.6/dist-packages/keras/backend/tensorflow_backend.py:66: The name tf.get_default_graph is deprecated. Please use tf.compat.v1.get_default_graph instead.\n",
            "\n",
            "WARNING:tensorflow:From /usr/local/lib/python3.6/dist-packages/keras/backend/tensorflow_backend.py:541: The name tf.placeholder is deprecated. Please use tf.compat.v1.placeholder instead.\n",
            "\n",
            "WARNING:tensorflow:From /usr/local/lib/python3.6/dist-packages/keras/backend/tensorflow_backend.py:4432: The name tf.random_uniform is deprecated. Please use tf.random.uniform instead.\n",
            "\n",
            "WARNING:tensorflow:From /usr/local/lib/python3.6/dist-packages/keras/backend/tensorflow_backend.py:4267: The name tf.nn.max_pool is deprecated. Please use tf.nn.max_pool2d instead.\n",
            "\n"
          ],
          "name": "stdout"
        }
      ]
    },
    {
      "cell_type": "code",
      "metadata": {
        "id": "Ry6pjqfR-7Av",
        "colab_type": "code",
        "colab": {
          "base_uri": "https://localhost:8080/",
          "height": 920
        },
        "outputId": "6b42214b-1306-4799-d4d5-4382aadf4c19"
      },
      "source": [
        "model.summary()"
      ],
      "execution_count": 3,
      "outputs": [
        {
          "output_type": "stream",
          "text": [
            "Model: \"vgg16\"\n",
            "_________________________________________________________________\n",
            "Layer (type)                 Output Shape              Param #   \n",
            "=================================================================\n",
            "input_1 (InputLayer)         (None, 224, 224, 1)       0         \n",
            "_________________________________________________________________\n",
            "block1_conv1 (Conv2D)        (None, 224, 224, 64)      640       \n",
            "_________________________________________________________________\n",
            "block1_conv2 (Conv2D)        (None, 224, 224, 64)      36928     \n",
            "_________________________________________________________________\n",
            "block1_pool (MaxPooling2D)   (None, 112, 112, 64)      0         \n",
            "_________________________________________________________________\n",
            "block2_conv1 (Conv2D)        (None, 112, 112, 128)     73856     \n",
            "_________________________________________________________________\n",
            "block2_conv2 (Conv2D)        (None, 112, 112, 128)     147584    \n",
            "_________________________________________________________________\n",
            "block2_pool (MaxPooling2D)   (None, 56, 56, 128)       0         \n",
            "_________________________________________________________________\n",
            "block3_conv1 (Conv2D)        (None, 56, 56, 256)       295168    \n",
            "_________________________________________________________________\n",
            "block3_conv2 (Conv2D)        (None, 56, 56, 256)       590080    \n",
            "_________________________________________________________________\n",
            "block3_conv3 (Conv2D)        (None, 56, 56, 256)       590080    \n",
            "_________________________________________________________________\n",
            "block3_pool (MaxPooling2D)   (None, 28, 28, 256)       0         \n",
            "_________________________________________________________________\n",
            "block4_conv1 (Conv2D)        (None, 28, 28, 512)       1180160   \n",
            "_________________________________________________________________\n",
            "block4_conv2 (Conv2D)        (None, 28, 28, 512)       2359808   \n",
            "_________________________________________________________________\n",
            "block4_conv3 (Conv2D)        (None, 28, 28, 512)       2359808   \n",
            "_________________________________________________________________\n",
            "block4_pool (MaxPooling2D)   (None, 14, 14, 512)       0         \n",
            "_________________________________________________________________\n",
            "block5_conv1 (Conv2D)        (None, 14, 14, 512)       2359808   \n",
            "_________________________________________________________________\n",
            "block5_conv2 (Conv2D)        (None, 14, 14, 512)       2359808   \n",
            "_________________________________________________________________\n",
            "block5_conv3 (Conv2D)        (None, 14, 14, 512)       2359808   \n",
            "_________________________________________________________________\n",
            "block5_pool (MaxPooling2D)   (None, 7, 7, 512)         0         \n",
            "_________________________________________________________________\n",
            "global_max_pooling2d_1 (Glob (None, 512)               0         \n",
            "_________________________________________________________________\n",
            "fc1 (Dense)                  (None, 4096)              2101248   \n",
            "_________________________________________________________________\n",
            "fc2 (Dense)                  (None, 4096)              16781312  \n",
            "_________________________________________________________________\n",
            "predictions (Dense)          (None, 1000)              4097000   \n",
            "=================================================================\n",
            "Total params: 37,693,096\n",
            "Trainable params: 37,693,096\n",
            "Non-trainable params: 0\n",
            "_________________________________________________________________\n"
          ],
          "name": "stdout"
        }
      ]
    }
  ]
}